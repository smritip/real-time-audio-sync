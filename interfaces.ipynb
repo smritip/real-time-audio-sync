{
 "cells": [
  {
   "cell_type": "markdown",
   "metadata": {},
   "source": [
    "# Interfaces"
   ]
  },
  {
   "cell_type": "code",
   "execution_count": 1,
   "metadata": {
    "collapsed": true
   },
   "outputs": [],
   "source": [
    "import numpy as np\n",
    "import matplotlib.pyplot as plt\n",
    "import IPython.display as ipd\n",
    "from ipywidgets import interact\n",
    "\n",
    "import sys\n",
    "sys.path.append(\"../common\")\n",
    "from util import *\n",
    "plt.rcParams['figure.figsize'] = (12, 4)"
   ]
  },
  {
   "cell_type": "code",
   "execution_count": 5,
   "metadata": {
    "collapsed": true
   },
   "outputs": [],
   "source": [
    "class DTW_x():\n",
    "    \n",
    "    def __init__(self, ref_recording, params):\n",
    "        '''Initialize DTW variant with reference recording and any params.'''\n",
    "        self.ref_recording = ref_recording\n",
    "        self.params = params\n",
    "        self.pos = 0\n",
    "        self.debug = False\n",
    "        \n",
    "    def insert(self, live_audio_buf):\n",
    "        '''Return synchronization estimates.'''\n",
    "        self.pos += len(live_audio_buf)\n",
    "        return self.pos\n",
    "    \n",
    "    def set_debug():\n",
    "        self.debug = True"
   ]
  },
  {
   "cell_type": "code",
   "execution_count": 4,
   "metadata": {
    "collapsed": true
   },
   "outputs": [],
   "source": [
    "class test_single_recording():\n",
    "    \n",
    "    def __init__(self, ref_recording, live_recording, ground_truth, params, dtw):\n",
    "        self.dtw = dtw(ref_recording, params)  # passed in 'dtw', which is some form of DTW_x...\n",
    "        self.live_recording = live_recording\n",
    "        self.ground_truth = ground_truth        \n",
    "        \n",
    "    def evaluate(self, buf_size):\n",
    "        '''Evaluate single piece of music with one DTW variant.'''\n",
    "        # Emulate live recording via creation of buffers\n",
    "        buffers = np.array_split(self.live_recording, buf_size)\n",
    "        \n",
    "        # For each buffer, get the synchronization estimate (ie the estimated position)\n",
    "        # via call to insert\n",
    "        sync_ests = []\n",
    "        for buf in buffers:\n",
    "            est = self.dtw.insert(buf)\n",
    "            sync_ests.append(est)\n",
    "        \n",
    "        # Compare estimates to ground truth, and return score\n",
    "        score = sync_ests * self.ground_truth\n",
    "        return score"
   ]
  },
  {
   "cell_type": "code",
   "execution_count": null,
   "metadata": {
    "collapsed": true
   },
   "outputs": [],
   "source": [
    "class test_DTW():  # multiple recordings, 1 DTW_x algorithm\n",
    "    \n",
    "    def __init__(self, ref_recordings, live_recordings, ground_truths, params, dtw):\n",
    "        self.ref_recordings = ref_recordings\n",
    "        self.live_recordings = live_recordings\n",
    "        self.ground_truths = ground_truths\n",
    "        self.params = params\n",
    "        self.dtw = dtw\n",
    "        \n",
    "    def evaluate(self, buf_size):\n",
    "        '''Evaluate a DTW variant (test with several pieces).'''\n",
    "        scores = []\n",
    "        for ref in self.ref_recordings:\n",
    "            for i in range(len(self.live_recordings)):\n",
    "                live = self.live_recordings[i]\n",
    "                truth = self.ground_truths[i]\n",
    "                test = test_single_recording(ref, live, truth, self.params, self.dtw)\n",
    "                score = test.evaluate(buf_size)\n",
    "                scores.append(score)\n",
    "                \n",
    "        scores = np.array(scores)\n",
    "        \n",
    "        return np.mean(scores)"
   ]
  },
  {
   "cell_type": "code",
   "execution_count": null,
   "metadata": {
    "collapsed": true
   },
   "outputs": [],
   "source": [
    "class test_all():  # multiple recordings, multiple DTWs (test each DTW with multiple recordings)\n",
    "    \n",
    "    def __init__(self, ref_recordings, live_recordings, ground_truths, params, dtws):\n",
    "        self.ref_recordings = ref_recordings\n",
    "        self.live_recordings = live_recordings\n",
    "        self.ground_truths = ground_truths\n",
    "        self.params = params\n",
    "        self.dtws = dtws\n",
    "        \n",
    "    def evaluate(self):\n",
    "        '''Evaluate all DTW variants (with all pieces).'''\n",
    "        scores = []\n",
    "        for dtw in dtws:\n",
    "            test = test_DTW(self.ref_recordings, self.live_recordings, self.ground_truths, self.params, dtw)\n",
    "            score = test.evaluate()\n",
    "            scores.append(score)\n",
    "            \n",
    "        return scores"
   ]
  }
 ],
 "metadata": {
  "kernelspec": {
   "display_name": "Python 2",
   "language": "python",
   "name": "python2"
  },
  "language_info": {
   "codemirror_mode": {
    "name": "ipython",
    "version": 2
   },
   "file_extension": ".py",
   "mimetype": "text/x-python",
   "name": "python",
   "nbconvert_exporter": "python",
   "pygments_lexer": "ipython2",
   "version": "2.7.13"
  }
 },
 "nbformat": 4,
 "nbformat_minor": 1
}
