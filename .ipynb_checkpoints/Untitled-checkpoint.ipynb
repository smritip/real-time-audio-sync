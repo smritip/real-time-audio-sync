{
 "cells": [
  {
   "cell_type": "code",
   "execution_count": 16,
   "metadata": {
    "collapsed": true
   },
   "outputs": [],
   "source": [
    "import numpy as np\n",
    "import librosa\n",
    "import csv\n",
    "\n",
    "from livenote import LiveNote\n",
    "from otw_eran import OnlineTimeWarping\n",
    "from wtw import WTW\n",
    "from dtw import DTW\n",
    "from chroma import wav_to_chroma, wav_to_chroma_col\n",
    "\n",
    "# matplotlib for displaying the output\n",
    "import matplotlib.pyplot as plt\n",
    "import matplotlib.style as ms\n",
    "ms.use('seaborn-muted')\n",
    "%matplotlib inline\n",
    "plt.rcParams['figure.figsize'] = (10, 6)"
   ]
  },
  {
   "cell_type": "code",
   "execution_count": 8,
   "metadata": {
    "collapsed": true
   },
   "outputs": [],
   "source": [
    "class test_simple():\n",
    "\n",
    "    def __init__(self, ref, live, path):\n",
    "\n",
    "        self.ref_gt_times = []\n",
    "        self.ref_gt_beats = []\n",
    "        self.live_gt_times = []\n",
    "        self.live_gt_beats = []\n",
    "\n",
    "        self.path = path\n",
    "        \n",
    "        ref_song = ref[:-4]\n",
    "        print \"Reference song:\", ref_song\n",
    "        ref_csv = ref_song + '.csv'\n",
    "        live_song = live[:-4]\n",
    "        print \"Live song:\", live_song\n",
    "        live_csv = live_song + '.csv'\n",
    "     \n",
    "        with open(ref_csv) as ref_csv_data:\n",
    "            reader = csv.reader(ref_csv_data)\n",
    "            for row in reader:\n",
    "                self.ref_gt_times.append(float(row[0]))\n",
    "                self.ref_gt_beats.append(int(row[1]))\n",
    "                \n",
    "        with open(live_csv) as live_csv_data:\n",
    "            reader = csv.reader(live_csv_data)\n",
    "            for row in reader:\n",
    "                self.live_gt_times.append(float(row[0]))\n",
    "                self.live_gt_beats.append(int(row[1]))\n",
    "\n",
    "    def get_error(self):\n",
    "        error = 0\n",
    "        num_off1 = 0\n",
    "        num_off3 = 0\n",
    "        num_off5 = 0\n",
    "        num_off10 = 0\n",
    "        count = 0\n",
    "        for (l, r) in self.path:\n",
    "            l_beat = self.get_beat(l, self.live_gt_times, self.live_gt_beats)\n",
    "            r_beat = self.get_beat(r, self.ref_gt_times, self.ref_gt_beats)\n",
    "            if l_beat and r_beat:\n",
    "                diff = abs(l_beat - r_beat)\n",
    "                error += diff ** 2\n",
    "\n",
    "                if diff > 1:\n",
    "                    num_off1 += 1\n",
    "                if diff > 3:\n",
    "                    num_off3 += 1\n",
    "                if diff > 5:\n",
    "                    num_off5 += 1\n",
    "                if diff > 10:\n",
    "                    num_off10 += 1\n",
    "\n",
    "                count += 1\n",
    "\n",
    "                #print l_beat, r_beat, diff\n",
    "\n",
    "        print \"Percent incorrect (within 1 beat):\", (float(num_off1) / count) * 100, \"%\"\n",
    "        print \"Percent incorrect (within 3 beat):\", (float(num_off3) / count) * 100, \"%\"\n",
    "        print \"Percent incorrect (within 5 beat):\", (float(num_off5) / count) * 100, \"%\"\n",
    "        print \"Percent incorrect (within 10 beat):\", (float(num_off10) / count) * 100, \"%\"\n",
    "        return error\n",
    "                \n",
    "\n",
    "    def get_beat(self, sample, gt_times, gt_beats):\n",
    "        # convert sample to time\n",
    "        time = sample * (2048 / 22050.)\n",
    "        for i in range(len(gt_times)):\n",
    "            if i == 0:\n",
    "                if time <= gt_times[i]:\n",
    "                    if gt_times[i] != 0:\n",
    "                        frac = float(gt_times[i] - time) / (gt_times[i] - 0)\n",
    "                    else:\n",
    "                        frac = 0\n",
    "                    return gt_beats[i] - frac\n",
    "            else:\n",
    "                if gt_times[i-1] <= time <= gt_times[i]:\n",
    "                    frac = float(gt_times[i] - time) / (gt_times[i] - gt_times[i-1])\n",
    "                    return gt_beats[i] - frac\n",
    "\n",
    "        return None"
   ]
  },
  {
   "cell_type": "code",
   "execution_count": 9,
   "metadata": {
    "collapsed": true
   },
   "outputs": [],
   "source": [
    "ref = 'Songs/shostakovich/shostakovich_symph5_0.wav'\n",
    "live = 'Songs/shostakovich/shostakovich_symph5_1.wav'\n",
    "ref_seq = wav_to_chroma(ref)\n",
    "live_seq = wav_to_chroma(live)\n",
    "params = {'search_band_width': 50, 'max_run_count': 3}\n",
    "debug_params = {'seq': False, 'all': False}"
   ]
  },
  {
   "cell_type": "code",
   "execution_count": 10,
   "metadata": {},
   "outputs": [
    {
     "name": "stdout",
     "output_type": "stream",
     "text": [
      "initializing livenote\n",
      "calling insert\n",
      "testing livenote\n",
      "Reference song: Songs/bach/bach_01\n",
      "Live song: Songs/bach/bach_03\n",
      "Percent incorrect (within 1 beat): 67.7317256971 %\n",
      "Percent incorrect (within 3 beat): 27.7317256971 %\n",
      "Percent incorrect (within 5 beat): 2.7128862095 %\n",
      "Percent incorrect (within 10 beat): 0.0 %\n",
      "\n",
      "\n"
     ]
    }
   ],
   "source": [
    "print \"initializing livenote\"\n",
    "ln2 = LiveNote(ref_seq, params, debug_params)\n",
    "\n",
    "print \"calling insert\"\n",
    "for i in range(live_seq.shape[1]):\n",
    "    cont = ln2.insert(live_seq[:,i])\n",
    "    if cont == \"stop\":\n",
    "        break\n",
    "ln2_path = np.array(ln2.path)\n",
    "\n",
    "print \"testing livenote\"\n",
    "ln2_test = test_simple(ref, live, ln2_path)\n",
    "ln2_test.get_error()\n",
    "\n",
    "print '\\n'"
   ]
  },
  {
   "cell_type": "code",
   "execution_count": 19,
   "metadata": {},
   "outputs": [
    {
     "data": {
      "image/png": "[encoded data removed]",
      "text/plain": [
       "<matplotlib.figure.Figure at 0x116c61fd0>"
      ]
     },
     "metadata": {},
     "output_type": "display_data"
    }
   ],
   "source": [
    "ln_acc_cost = ln2.acc_cost.copy()\n",
    "\n",
    "plt.figure(figsize=(10,20))\n",
    "plt.imshow(ln_acc_cost)\n",
    "plt.colorbar()\n",
    "path = np.array(ln2.path)\n",
    "plt.plot(path[:,1], path[:,0], '-r', linewidth=3)\n",
    "plt.show()"
   ]
  }
 ],
 "metadata": {
  "kernelspec": {
   "display_name": "Python 2",
   "language": "python",
   "name": "python2"
  },
  "language_info": {
   "codemirror_mode": {
    "name": "ipython",
    "version": 2
   },
   "file_extension": ".py",
   "mimetype": "text/x-python",
   "name": "python",
   "nbconvert_exporter": "python",
   "pygments_lexer": "ipython2",
   "version": "2.7.14"
  }
 },
 "nbformat": 4,
 "nbformat_minor": 2
}
