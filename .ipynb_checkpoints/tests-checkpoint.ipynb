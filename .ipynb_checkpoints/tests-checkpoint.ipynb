{
 "cells": [
  {
   "cell_type": "code",
   "execution_count": 1,
   "metadata": {
    "collapsed": true
   },
   "outputs": [],
   "source": [
    "# matplotlib for displaying the output\n",
    "import matplotlib.pyplot as plt\n",
    "import matplotlib.style as ms\n",
    "ms.use('seaborn-muted')\n",
    "%matplotlib inline\n",
    "plt.rcParams['figure.figsize'] = (10, 6)\n",
    "\n",
    "from livenote import LiveNote\n",
    "from wtw import WTW\n",
    "\n",
    "from tests import test_single_recording, test_DTW, test_all"
   ]
  },
  {
   "cell_type": "code",
   "execution_count": 3,
   "metadata": {},
   "outputs": [
    {
     "name": "stdout",
     "output_type": "stream",
     "text": [
      "Calculating dft for 380 hops.\n",
      "Testing wtw.WTW\n",
      "Reference song: Songs/ChopinNocturneOp9No2/ChopinNocturneOp9No2_ArthurRubinstein_20b\n",
      "Live song: Songs/ChopinNocturneOp9No2/ChopinNocturneOp9No2_Rachmaninoff_20b\n",
      "Percent incorrect (within 1 beat): 0.392927308448 %\n"
     ]
    },
    {
     "data": {
      "text/plain": [
       "0.3929273084479371"
      ]
     },
     "execution_count": 3,
     "metadata": {},
     "output_type": "execute_result"
    },
    {
     "data": {
      "image/png": "[encoded data removed]",
      "text/plain": [
       "<matplotlib.figure.Figure at 0x1068b2890>"
      ]
     },
     "metadata": {},
     "output_type": "display_data"
    }
   ],
   "source": [
    "wtw_params = {'fft_len': 4096, 'hop_size': 2048, 'dtw_win_size': 4096*10, 'dtw_hop_size': 2048*10}\n",
    "debug_params = {'chroma': True, 'song': True, 'error': True, 'error_detail': False, 'alg': True}\n",
    "ref ='Songs/chopin/chopin_rubinstein_20b.wav'\n",
    "live = 'Songs/chopin/chopin_rachmaninoff_20b.wav'\n",
    "gt_ref = 'Songs/chopin/chopin_rubinstein_20b.csv'\n",
    "gt_live = 'Songs/chopin/chopin_rachmaninoff_20b.csv'\n",
    "test = test_single_recording(WTW, ref, live, gt_ref, gt_live, wtw_params, debug_params)\n",
    "test.evaluate(4096)"
   ]
  },
  {
   "cell_type": "code",
   "execution_count": 4,
   "metadata": {},
   "outputs": [
    {
     "name": "stdout",
     "output_type": "stream",
     "text": [
      "Reference song: Songs/ChopinNocturneOp9No2/ChopinNocturneOp9No2_ArthurRubinstein\n",
      "Live song: Songs/ChopinNocturneOp9No2/ChopinNocturneOp9No2_ArthurRubinstein\n",
      "Percent incorrect (within 1 beat): 0.031776294884 %\n",
      "\n",
      "\n",
      "Reference song: Songs/ChopinNocturneOp9No2/ChopinNocturneOp9No2_ArthurRubinstein\n",
      "Live song: Songs/ChopinNocturneOp9No2/ChopinNocturneOp9No2_Rachmaninoff\n",
      "Percent incorrect (within 1 beat): 2.75161130392 %\n",
      "\n",
      "\n",
      "Reference song: Songs/ChopinNocturneOp9No2/ChopinNocturneOp9No2_ArthurRubinstein\n",
      "Live song: Songs/ChopinNocturneOp9No2/ChopinNocturneOp9No2_YundiLi\n",
      "Percent incorrect (within 1 beat): 7.26412468689 %\n",
      "\n",
      "\n",
      "Reference song: Songs/ChopinNocturneOp9No2/ChopinNocturneOp9No2_Rachmaninoff\n",
      "Live song: Songs/ChopinNocturneOp9No2/ChopinNocturneOp9No2_ArthurRubinstein\n",
      "Percent incorrect (within 1 beat): 27.2955343703 %\n",
      "\n",
      "\n",
      "Reference song: Songs/ChopinNocturneOp9No2/ChopinNocturneOp9No2_Rachmaninoff\n",
      "Live song: Songs/ChopinNocturneOp9No2/ChopinNocturneOp9No2_Rachmaninoff\n",
      "Percent incorrect (within 1 beat): 0.0297000297 %\n",
      "\n",
      "\n",
      "Reference song: Songs/ChopinNocturneOp9No2/ChopinNocturneOp9No2_Rachmaninoff\n",
      "Live song: Songs/ChopinNocturneOp9No2/ChopinNocturneOp9No2_YundiLi\n",
      "Percent incorrect (within 1 beat): 79.2207792208 %\n",
      "\n",
      "\n",
      "Reference song: Songs/ChopinNocturneOp9No2/ChopinNocturneOp9No2_YundiLi\n",
      "Live song: Songs/ChopinNocturneOp9No2/ChopinNocturneOp9No2_ArthurRubinstein\n",
      "Percent incorrect (within 1 beat): 5.90010976948 %\n",
      "\n",
      "\n",
      "Reference song: Songs/ChopinNocturneOp9No2/ChopinNocturneOp9No2_YundiLi\n",
      "Live song: Songs/ChopinNocturneOp9No2/ChopinNocturneOp9No2_Rachmaninoff\n",
      "Percent incorrect (within 1 beat): 62.0397428404 %\n",
      "\n",
      "\n",
      "Reference song: Songs/ChopinNocturneOp9No2/ChopinNocturneOp9No2_YundiLi\n",
      "Live song: Songs/ChopinNocturneOp9No2/ChopinNocturneOp9No2_YundiLi\n",
      "Percent incorrect (within 1 beat): 0.036496350365 %\n",
      "\n",
      "\n"
     ]
    },
    {
     "data": {
      "text/plain": [
       "20.507763874084489"
      ]
     },
     "execution_count": 4,
     "metadata": {},
     "output_type": "execute_result"
    }
   ],
   "source": [
    "wtw_params = {'fft_len': 4096, 'hop_size': 2048, 'dtw_win_size': 4096*10, 'dtw_hop_size': 2048*10}\n",
    "debug_params = {'chroma': False, 'song': True, 'error': True, 'error_detail': False, 'alg': False}\n",
    "test = test_DTW(WTW, 'Songs/', wtw_params, debug_params)\n",
    "test.evaluate(4096)"
   ]
  },
  {
   "cell_type": "code",
   "execution_count": 5,
   "metadata": {},
   "outputs": [
    {
     "name": "stdout",
     "output_type": "stream",
     "text": [
      "Reference song: Songs/bach/bach_01\n",
      "Live song: Songs/bach/bach_01\n",
      "Percent incorrect (within 1 beat): 0.0 %\n",
      "\n",
      "\n",
      "Reference song: Songs/bach/bach_01\n",
      "Live song: Songs/bach/bach_02\n",
      "Percent incorrect (within 1 beat): 80.6950855281 %\n",
      "\n",
      "\n",
      "Reference song: Songs/bach/bach_01\n",
      "Live song: Songs/bach/bach_03\n",
      "Percent incorrect (within 1 beat): 81.5847395451 %\n",
      "\n",
      "\n",
      "Reference song: Songs/bach/bach_02\n",
      "Live song: Songs/bach/bach_01\n",
      "Percent incorrect (within 1 beat): 82.0767743717 %\n",
      "\n",
      "\n",
      "Reference song: Songs/bach/bach_02\n",
      "Live song: Songs/bach/bach_02\n",
      "Percent incorrect (within 1 beat): 0.0 %\n",
      "\n",
      "\n",
      "Reference song: Songs/bach/bach_02\n",
      "Live song: Songs/bach/bach_03\n",
      "Percent incorrect (within 1 beat): 96.9320486815 %\n",
      "\n",
      "\n",
      "Reference song: Songs/bach/bach_03\n",
      "Live song: Songs/bach/bach_01\n",
      "Percent incorrect (within 1 beat): 97.9840716775 %\n",
      "\n",
      "\n",
      "Reference song: Songs/bach/bach_03\n",
      "Live song: Songs/bach/bach_02\n",
      "Percent incorrect (within 1 beat): 97.0366649925 %\n",
      "\n",
      "\n",
      "Reference song: Songs/bach/bach_03\n",
      "Live song: Songs/bach/bach_03\n",
      "Percent incorrect (within 1 beat): 0.0250375563345 %\n",
      "\n",
      "\n",
      "Reference song: Songs/ChopinNocturneOp9No2/ChopinNocturneOp9No2_ArthurRubinstein\n",
      "Live song: Songs/ChopinNocturneOp9No2/ChopinNocturneOp9No2_ArthurRubinstein\n",
      "Percent incorrect (within 1 beat): 0.031776294884 %\n",
      "\n",
      "\n",
      "Reference song: Songs/ChopinNocturneOp9No2/ChopinNocturneOp9No2_ArthurRubinstein\n",
      "Live song: Songs/ChopinNocturneOp9No2/ChopinNocturneOp9No2_Rachmaninoff\n",
      "Percent incorrect (within 1 beat): 2.75161130392 %\n",
      "\n",
      "\n",
      "Reference song: Songs/ChopinNocturneOp9No2/ChopinNocturneOp9No2_ArthurRubinstein\n",
      "Live song: Songs/ChopinNocturneOp9No2/ChopinNocturneOp9No2_YundiLi\n",
      "Percent incorrect (within 1 beat): 7.26412468689 %\n",
      "\n",
      "\n",
      "Reference song: Songs/ChopinNocturneOp9No2/ChopinNocturneOp9No2_Rachmaninoff\n",
      "Live song: Songs/ChopinNocturneOp9No2/ChopinNocturneOp9No2_ArthurRubinstein\n",
      "Percent incorrect (within 1 beat): 27.2955343703 %\n",
      "\n",
      "\n",
      "Reference song: Songs/ChopinNocturneOp9No2/ChopinNocturneOp9No2_Rachmaninoff\n",
      "Live song: Songs/ChopinNocturneOp9No2/ChopinNocturneOp9No2_Rachmaninoff\n",
      "Percent incorrect (within 1 beat): 0.0297000297 %\n",
      "\n",
      "\n",
      "Reference song: Songs/ChopinNocturneOp9No2/ChopinNocturneOp9No2_Rachmaninoff\n",
      "Live song: Songs/ChopinNocturneOp9No2/ChopinNocturneOp9No2_YundiLi\n",
      "Percent incorrect (within 1 beat): 79.2207792208 %\n",
      "\n",
      "\n",
      "Reference song: Songs/ChopinNocturneOp9No2/ChopinNocturneOp9No2_YundiLi\n",
      "Live song: Songs/ChopinNocturneOp9No2/ChopinNocturneOp9No2_ArthurRubinstein\n",
      "Percent incorrect (within 1 beat): 5.90010976948 %\n",
      "\n",
      "\n",
      "Reference song: Songs/ChopinNocturneOp9No2/ChopinNocturneOp9No2_YundiLi\n",
      "Live song: Songs/ChopinNocturneOp9No2/ChopinNocturneOp9No2_Rachmaninoff\n",
      "Percent incorrect (within 1 beat): 62.0397428404 %\n",
      "\n",
      "\n",
      "Reference song: Songs/ChopinNocturneOp9No2/ChopinNocturneOp9No2_YundiLi\n",
      "Live song: Songs/ChopinNocturneOp9No2/ChopinNocturneOp9No2_YundiLi\n",
      "Percent incorrect (within 1 beat): 0.036496350365 %\n",
      "\n",
      "\n"
     ]
    },
    {
     "data": {
      "text/plain": [
       "40.050238734416538"
      ]
     },
     "execution_count": 5,
     "metadata": {},
     "output_type": "execute_result"
    }
   ],
   "source": [
    "wtw_params = {'fft_len': 4096, 'hop_size': 2048, 'dtw_win_size': 4096*10, 'dtw_hop_size': 2048*10}\n",
    "debug_params = {'chroma': False, 'song': True, 'error': True, 'error_detail': False, 'alg': False}\n",
    "test = test_DTW(WTW, 'Songs/', wtw_params, debug_params)\n",
    "test.evaluate(4096)"
   ]
  }
 ],
 "metadata": {
  "kernelspec": {
   "display_name": "Python 2",
   "language": "python",
   "name": "python2"
  },
  "language_info": {
   "codemirror_mode": {
    "name": "ipython",
    "version": 2
   },
   "file_extension": ".py",
   "mimetype": "text/x-python",
   "name": "python",
   "nbconvert_exporter": "python",
   "pygments_lexer": "ipython2",
   "version": "2.7.14"
  }
 },
 "nbformat": 4,
 "nbformat_minor": 2
}
