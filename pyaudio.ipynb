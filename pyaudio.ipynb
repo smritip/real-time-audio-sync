{
 "cells": [
  {
   "cell_type": "code",
   "execution_count": null,
   "metadata": {},
   "outputs": [],
   "source": [
    "\"\"\"PyAudio Example: Play a wave file.\"\"\"\n",
    "\n",
    "import pyaudio\n",
    "import wave\n",
    "import sys\n",
    "\n",
    "CHUNK = 1024\n",
    "\n",
    "wf = wave.open('Songs/ChopinNocturneOp9No2/ChopinNocturneOp9No2_ArthurRubinstein.wav', 'rb')\n",
    "\n",
    "# instantiate PyAudio (1)\n",
    "p = pyaudio.PyAudio()\n",
    "\n",
    "# open stream (2)\n",
    "stream = p.open(format=p.get_format_from_width(wf.getsampwidth()),\n",
    "                channels=wf.getnchannels(),\n",
    "                rate=wf.getframerate(),\n",
    "                output=True)\n",
    "\n",
    "# read data\n",
    "data = wf.readframes(CHUNK)\n",
    "\n",
    "# play stream (3)\n",
    "while len(data) > 0:\n",
    "    stream.write(data)\n",
    "    data = wf.readframes(CHUNK)\n",
    "\n",
    "# stop stream (4)\n",
    "stream.stop_stream()\n",
    "stream.close()\n",
    "\n",
    "# close PyAudio (5)\n",
    "p.terminate()"
   ]
  }
 ],
 "metadata": {
  "kernelspec": {
   "display_name": "Python 2",
   "language": "python",
   "name": "python2"
  },
  "language_info": {
   "codemirror_mode": {
    "name": "ipython",
    "version": 2
   },
   "file_extension": ".py",
   "mimetype": "text/x-python",
   "name": "python",
   "nbconvert_exporter": "python",
   "pygments_lexer": "ipython2",
   "version": "2.7.13"
  }
 },
 "nbformat": 4,
 "nbformat_minor": 2
}
