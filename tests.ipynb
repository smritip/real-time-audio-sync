{
 "cells": [
  {
   "cell_type": "code",
   "execution_count": 36,
   "metadata": {},
   "outputs": [],
   "source": [
    "import numpy as np\n",
    "\n",
    "import math\n",
    "\n",
    "# matplotlib for displaying the output\n",
    "import matplotlib.pyplot as plt\n",
    "import matplotlib.style as ms\n",
    "ms.use('seaborn-muted')\n",
    "%matplotlib inline\n",
    "plt.rcParams['figure.figsize'] = (10, 6)\n",
    "\n",
    "# and IPython.display for audio output\n",
    "import IPython.display as ipd\n",
    "\n",
    "# Librosa for audio\n",
    "import librosa\n",
    "# And the display module for visualization\n",
    "import librosa.display\n",
    "\n",
    "import pyaudio\n",
    "import csv\n",
    "\n",
    "from livenote import LiveNote\n",
    "from wtw import WTW"
   ]
  },
  {
   "cell_type": "code",
   "execution_count": 37,
   "metadata": {},
   "outputs": [],
   "source": [
    "class test_single_recording():\n",
    "    \n",
    "    def __init__(self, dtw, ref_recording, live_recording, ref_ground_truth, live_ground_truth, params, debug_params):\n",
    "        self.variant = dtw\n",
    "        self.dtw = dtw(ref_recording, params, debug_params)  # passed in 'dtw', which is some form of DTW_x...\n",
    "        \n",
    "        self.live_recording, fs = librosa.load(live_recording)\n",
    "        assert(fs == 22050)\n",
    "\n",
    "        self.chroma_info = debug_params['chroma']\n",
    "        self.song_info = debug_params['song']\n",
    "        self.error_info = debug_params['error']\n",
    "        self.error_detail = debug_params['error_detail']\n",
    "        self.alg_info = debug_params['alg']\n",
    "        \n",
    "        if self.alg_info:\n",
    "            print \"Testing\", self.variant\n",
    "        \n",
    "        self.ref_ground_truth_time = []\n",
    "        self.ref_ground_truth_beats = []\n",
    "        self.live_ground_truth_time = []\n",
    "        self.live_ground_truth_beats = []\n",
    "        \n",
    "        ref_song = ref_recording[:-4]\n",
    "        if self.song_info:\n",
    "            print \"Reference song:\", ref_song\n",
    "        ref_csv_file = ref_song + '.csv'\n",
    "        live_song = live_recording[:-4]\n",
    "        if self.song_info:\n",
    "            print \"Live song:\", live_song\n",
    "        live_csv_file = live_song + '.csv'\n",
    "     \n",
    "        with open(ref_csv_file) as ref_csv_data:\n",
    "            reader = csv.reader(ref_csv_data)\n",
    "            for row in reader:\n",
    "                self.ref_ground_truth_time.append(float(row[0]))\n",
    "                self.ref_ground_truth_beats.append(int(row[1]))\n",
    "                \n",
    "        with open(live_csv_file) as live_csv_data:\n",
    "            reader = csv.reader(live_csv_data)\n",
    "            for row in reader:\n",
    "                self.live_ground_truth_time.append(float(row[0]))\n",
    "                self.live_ground_truth_beats.append(int(row[1]))\n",
    "        \n",
    "    def evaluate(self, buf_size):\n",
    "        '''Evaluate single piece of music with WTW.'''\n",
    "        # Emulate live recording via creation of buffers\n",
    "        buffers = np.array_split(self.live_recording, buf_size)\n",
    "        # For each buffer, get the synchronization estimate (ie the estimated position)\n",
    "        # via call to insert\n",
    "        for buf in buffers:\n",
    "            est = self.dtw.insert(buf.tolist())\n",
    "            if est == \"stop\":\n",
    "                break\n",
    "        \n",
    "        self.sync_ests = self.dtw.path\n",
    "        \n",
    "        if self.variant == LiveNote:\n",
    "            if self.chroma_info:\n",
    "                # show live chroma\n",
    "                plt.figure(figsize=(10, 4))\n",
    "                librosa.display.specshow(self.dtw.chroma_live, y_axis='chroma', x_axis='time')\n",
    "                plt.colorbar()\n",
    "                plt.title('Live Chromagram')\n",
    "                plt.tight_layout()\n",
    "                # show distance matrix\n",
    "                plt.figure()\n",
    "                plt.imshow(self.dtw.D)\n",
    "                plt.colorbar()\n",
    "                plt.title('Distance Matrix')\n",
    "                plt.tight_layout()\n",
    "\n",
    "        # Compare estimates to ground truth, and return error\n",
    "        error = self.get_error()\n",
    "        return error\n",
    "    \n",
    "    def get_error(self):\n",
    "        error = 0\n",
    "        num_off1 = 0\n",
    "        num_off3 = 0\n",
    "        if self.error_detail:\n",
    "            ff = float(self.dtw.fs) / self.dtw.hop_size\n",
    "            gsamples = [x * ff for x in self.ref_ground_truth_time]\n",
    "            print \"samples at\", gsamples\n",
    "        for (l, r) in self.sync_ests:\n",
    "            l_beat = self.get_beat(l, self.live_ground_truth_time, self.live_ground_truth_beats)\n",
    "            r_beat = self.get_beat(r, self.ref_ground_truth_time, self.ref_ground_truth_beats)\n",
    "            if self.error_detail:\n",
    "                print \"(l, r): \", l, r\n",
    "                print \"est: \", l * (self.dtw.hop_size / 22050.) , r * (self.dtw.hop_size / 22050.)\n",
    "                print \"beats:\", l_beat, r_beat\n",
    "            diff = (r_beat - l_beat)**2\n",
    "            if abs(r_beat - l_beat) > 1:\n",
    "                num_off1 += 1\n",
    "            if abs(r_beat - l_beat) > 3:\n",
    "                num_off3 += 1\n",
    "            error += diff\n",
    "        if self.error_info:\n",
    "            print \"Percent incorrect (within 1 beat):\", (float(num_off1) / len(self.sync_ests)) * 100, \"%\"\n",
    "        if self.error_detail:\n",
    "            print \"Percent incorrect (within 3 beats):\", (float(num_off3) / len(self.sync_ests)) * 100, \"%\"\n",
    "            print \"Error:\", error\n",
    "        # TODO: fix re-def of error...\n",
    "        error = (float(num_off1) / len(self.sync_ests)) * 100\n",
    "        return error\n",
    "    \n",
    "    def get_beat(self, t, gtime, gbeats):\n",
    "        ff = float(self.dtw.fs) / self.dtw.hop_size\n",
    "        gsam = [x * ff for x in gtime]\n",
    "        for i in range(len(gsam) - 1):\n",
    "            if t < gsam[i]:\n",
    "                return 0\n",
    "            if gsam[i] <= t < gsam[i+1]:\n",
    "                beatBefore = gbeats[i]\n",
    "                timeBefore = gtime[i]\n",
    "                timeAfter = gtime[i + 1]\n",
    "                time = t / ff\n",
    "                p_beat = (time - timeBefore) / (timeAfter - timeBefore)\n",
    "                return beatBefore + p_beat\n",
    "        return gbeats[-1]"
   ]
  },
  {
   "cell_type": "code",
   "execution_count": 38,
   "metadata": {},
   "outputs": [
    {
     "data": {
      "text/plain": [
       "(array([ -1.52587891e-05,   4.57763672e-05,  -6.10351562e-05, ...,\n",
       "          1.40075684e-02,   1.32598877e-02,   1.23748779e-02], dtype=float32),\n",
       " 22050)"
      ]
     },
     "execution_count": 38,
     "metadata": {},
     "output_type": "execute_result"
    }
   ],
   "source": [
    "ref_b ='Songs/ChopinNocturneOp9No2/ChopinNocturneOp9No2_ArthurRubinstein_20b.wav'\n",
    "librosa.load(ref_b)"
   ]
  },
  {
   "cell_type": "code",
   "execution_count": 39,
   "metadata": {},
   "outputs": [
    {
     "ename": "NameError",
     "evalue": "global name 'librosa' is not defined",
     "output_type": "error",
     "traceback": [
      "\u001b[0;31m---------------------------------------------------------------------------\u001b[0m",
      "\u001b[0;31mNameError\u001b[0m                                 Traceback (most recent call last)",
      "\u001b[0;32m<ipython-input-39-49bdd18eb105>\u001b[0m in \u001b[0;36m<module>\u001b[0;34m()\u001b[0m\n\u001b[1;32m      5\u001b[0m \u001b[0mgt_ref\u001b[0m \u001b[0;34m=\u001b[0m \u001b[0;34m'Songs/ChopinNocturneOp9No2/ChopinNocturneOp9No2_ArthurRubinstein_20b.csv'\u001b[0m\u001b[0;34m\u001b[0m\u001b[0m\n\u001b[1;32m      6\u001b[0m \u001b[0mgt_live\u001b[0m \u001b[0;34m=\u001b[0m \u001b[0;34m'Songs/ChopinNocturneOp9No2/ChopinNocturneOp9No2_Rachmaninoff_20b.csv'\u001b[0m\u001b[0;34m\u001b[0m\u001b[0m\n\u001b[0;32m----> 7\u001b[0;31m \u001b[0mtest\u001b[0m \u001b[0;34m=\u001b[0m \u001b[0mtest_single_recording\u001b[0m\u001b[0;34m(\u001b[0m\u001b[0mLiveNote\u001b[0m\u001b[0;34m,\u001b[0m \u001b[0mref\u001b[0m\u001b[0;34m,\u001b[0m \u001b[0mlive\u001b[0m\u001b[0;34m,\u001b[0m \u001b[0mgt_ref\u001b[0m\u001b[0;34m,\u001b[0m \u001b[0mgt_live\u001b[0m\u001b[0;34m,\u001b[0m \u001b[0mparams\u001b[0m\u001b[0;34m,\u001b[0m \u001b[0mdebug_params\u001b[0m\u001b[0;34m)\u001b[0m\u001b[0;34m\u001b[0m\u001b[0m\n\u001b[0m",
      "\u001b[0;32m<ipython-input-37-f902d5183d00>\u001b[0m in \u001b[0;36m__init__\u001b[0;34m(self, dtw, ref_recording, live_recording, ref_ground_truth, live_ground_truth, params, debug_params)\u001b[0m\n\u001b[1;32m      3\u001b[0m     \u001b[0;32mdef\u001b[0m \u001b[0m__init__\u001b[0m\u001b[0;34m(\u001b[0m\u001b[0mself\u001b[0m\u001b[0;34m,\u001b[0m \u001b[0mdtw\u001b[0m\u001b[0;34m,\u001b[0m \u001b[0mref_recording\u001b[0m\u001b[0;34m,\u001b[0m \u001b[0mlive_recording\u001b[0m\u001b[0;34m,\u001b[0m \u001b[0mref_ground_truth\u001b[0m\u001b[0;34m,\u001b[0m \u001b[0mlive_ground_truth\u001b[0m\u001b[0;34m,\u001b[0m \u001b[0mparams\u001b[0m\u001b[0;34m,\u001b[0m \u001b[0mdebug_params\u001b[0m\u001b[0;34m)\u001b[0m\u001b[0;34m:\u001b[0m\u001b[0;34m\u001b[0m\u001b[0m\n\u001b[1;32m      4\u001b[0m         \u001b[0mself\u001b[0m\u001b[0;34m.\u001b[0m\u001b[0mvariant\u001b[0m \u001b[0;34m=\u001b[0m \u001b[0mdtw\u001b[0m\u001b[0;34m\u001b[0m\u001b[0m\n\u001b[0;32m----> 5\u001b[0;31m         \u001b[0mself\u001b[0m\u001b[0;34m.\u001b[0m\u001b[0mdtw\u001b[0m \u001b[0;34m=\u001b[0m \u001b[0mdtw\u001b[0m\u001b[0;34m(\u001b[0m\u001b[0mref_recording\u001b[0m\u001b[0;34m,\u001b[0m \u001b[0mparams\u001b[0m\u001b[0;34m,\u001b[0m \u001b[0mdebug_params\u001b[0m\u001b[0;34m)\u001b[0m  \u001b[0;31m# passed in 'dtw', which is some form of DTW_x...\u001b[0m\u001b[0;34m\u001b[0m\u001b[0m\n\u001b[0m\u001b[1;32m      6\u001b[0m \u001b[0;34m\u001b[0m\u001b[0m\n\u001b[1;32m      7\u001b[0m         \u001b[0mself\u001b[0m\u001b[0;34m.\u001b[0m\u001b[0mlive_recording\u001b[0m\u001b[0;34m,\u001b[0m \u001b[0mfs\u001b[0m \u001b[0;34m=\u001b[0m \u001b[0mlibrosa\u001b[0m\u001b[0;34m.\u001b[0m\u001b[0mload\u001b[0m\u001b[0;34m(\u001b[0m\u001b[0mlive_recording\u001b[0m\u001b[0;34m)\u001b[0m\u001b[0;34m\u001b[0m\u001b[0m\n",
      "\u001b[0;32m/Users/smriti/Desktop/MIT/SuperUROP/real-time-audio-sync/livenote.py\u001b[0m in \u001b[0;36m__init__\u001b[0;34m(self, ref_recording, params, debug_params)\u001b[0m\n\u001b[1;32m      3\u001b[0m     \u001b[0;32mdef\u001b[0m \u001b[0m__init__\u001b[0m\u001b[0;34m(\u001b[0m\u001b[0mself\u001b[0m\u001b[0;34m,\u001b[0m \u001b[0mref_recording\u001b[0m\u001b[0;34m,\u001b[0m \u001b[0mparams\u001b[0m\u001b[0;34m,\u001b[0m \u001b[0mdebug_params\u001b[0m\u001b[0;34m)\u001b[0m\u001b[0;34m:\u001b[0m\u001b[0;34m\u001b[0m\u001b[0m\n\u001b[1;32m      4\u001b[0m         \u001b[0;31m# reference audio, fs = 22050\u001b[0m\u001b[0;34m\u001b[0m\u001b[0;34m\u001b[0m\u001b[0m\n\u001b[0;32m----> 5\u001b[0;31m         \u001b[0mself\u001b[0m\u001b[0;34m.\u001b[0m\u001b[0mref\u001b[0m\u001b[0;34m,\u001b[0m \u001b[0mself\u001b[0m\u001b[0;34m.\u001b[0m\u001b[0mfs\u001b[0m \u001b[0;34m=\u001b[0m \u001b[0mlibrosa\u001b[0m\u001b[0;34m.\u001b[0m\u001b[0mload\u001b[0m\u001b[0;34m(\u001b[0m\u001b[0mref_recording\u001b[0m\u001b[0;34m)\u001b[0m\u001b[0;34m\u001b[0m\u001b[0m\n\u001b[0m\u001b[1;32m      6\u001b[0m         \u001b[0;32massert\u001b[0m\u001b[0;34m(\u001b[0m\u001b[0mself\u001b[0m\u001b[0;34m.\u001b[0m\u001b[0mfs\u001b[0m \u001b[0;34m==\u001b[0m \u001b[0;36m22050\u001b[0m\u001b[0;34m)\u001b[0m\u001b[0;34m\u001b[0m\u001b[0m\n\u001b[1;32m      7\u001b[0m \u001b[0;34m\u001b[0m\u001b[0m\n",
      "\u001b[0;31mNameError\u001b[0m: global name 'librosa' is not defined"
     ]
    }
   ],
   "source": [
    "params = {'fft_len': 4096, 'hop_size': 2048, 'dtw_win_size': 4096*10, 'dtw_hop_size': 2048*10}\n",
    "debug_params = {'chroma': False, 'song': True, 'error': True, 'error_detail': False, 'alg': True}\n",
    "ref ='Songs/ChopinNocturneOp9No2/ChopinNocturneOp9No2_ArthurRubinstein_20b.wav'\n",
    "live = 'Songs/ChopinNocturneOp9No2/ChopinNocturneOp9No2_Rachmaninoff_20b.wav'\n",
    "gt_ref = 'Songs/ChopinNocturneOp9No2/ChopinNocturneOp9No2_ArthurRubinstein_20b.csv'\n",
    "gt_live = 'Songs/ChopinNocturneOp9No2/ChopinNocturneOp9No2_Rachmaninoff_20b.csv'\n",
    "test = test_single_recording(LiveNote, ref, live, gt_ref, gt_live, params, debug_params)"
   ]
  },
  {
   "cell_type": "code",
   "execution_count": 40,
   "metadata": {},
   "outputs": [
    {
     "ename": "NameError",
     "evalue": "global name 'librosa' is not defined",
     "output_type": "error",
     "traceback": [
      "\u001b[0;31m---------------------------------------------------------------------------\u001b[0m",
      "\u001b[0;31mNameError\u001b[0m                                 Traceback (most recent call last)",
      "\u001b[0;32m<ipython-input-40-c86f45db9abc>\u001b[0m in \u001b[0;36m<module>\u001b[0;34m()\u001b[0m\n\u001b[1;32m      5\u001b[0m \u001b[0mgt_ref\u001b[0m \u001b[0;34m=\u001b[0m \u001b[0;34m'Songs/ChopinNocturneOp9No2/ChopinNocturneOp9No2_ArthurRubinstein_20b.csv'\u001b[0m\u001b[0;34m\u001b[0m\u001b[0m\n\u001b[1;32m      6\u001b[0m \u001b[0mgt_live\u001b[0m \u001b[0;34m=\u001b[0m \u001b[0;34m'Songs/ChopinNocturneOp9No2/ChopinNocturneOp9No2_Rachmaninoff_20b.csv'\u001b[0m\u001b[0;34m\u001b[0m\u001b[0m\n\u001b[0;32m----> 7\u001b[0;31m \u001b[0mtest\u001b[0m \u001b[0;34m=\u001b[0m \u001b[0mtest_single_recording\u001b[0m\u001b[0;34m(\u001b[0m\u001b[0mWTW\u001b[0m\u001b[0;34m,\u001b[0m \u001b[0mref\u001b[0m\u001b[0;34m,\u001b[0m \u001b[0mlive\u001b[0m\u001b[0;34m,\u001b[0m \u001b[0mgt_ref\u001b[0m\u001b[0;34m,\u001b[0m \u001b[0mgt_live\u001b[0m\u001b[0;34m,\u001b[0m \u001b[0mparams\u001b[0m\u001b[0;34m,\u001b[0m \u001b[0mdebug_params\u001b[0m\u001b[0;34m)\u001b[0m\u001b[0;34m\u001b[0m\u001b[0m\n\u001b[0m",
      "\u001b[0;32m<ipython-input-37-f902d5183d00>\u001b[0m in \u001b[0;36m__init__\u001b[0;34m(self, dtw, ref_recording, live_recording, ref_ground_truth, live_ground_truth, params, debug_params)\u001b[0m\n\u001b[1;32m      3\u001b[0m     \u001b[0;32mdef\u001b[0m \u001b[0m__init__\u001b[0m\u001b[0;34m(\u001b[0m\u001b[0mself\u001b[0m\u001b[0;34m,\u001b[0m \u001b[0mdtw\u001b[0m\u001b[0;34m,\u001b[0m \u001b[0mref_recording\u001b[0m\u001b[0;34m,\u001b[0m \u001b[0mlive_recording\u001b[0m\u001b[0;34m,\u001b[0m \u001b[0mref_ground_truth\u001b[0m\u001b[0;34m,\u001b[0m \u001b[0mlive_ground_truth\u001b[0m\u001b[0;34m,\u001b[0m \u001b[0mparams\u001b[0m\u001b[0;34m,\u001b[0m \u001b[0mdebug_params\u001b[0m\u001b[0;34m)\u001b[0m\u001b[0;34m:\u001b[0m\u001b[0;34m\u001b[0m\u001b[0m\n\u001b[1;32m      4\u001b[0m         \u001b[0mself\u001b[0m\u001b[0;34m.\u001b[0m\u001b[0mvariant\u001b[0m \u001b[0;34m=\u001b[0m \u001b[0mdtw\u001b[0m\u001b[0;34m\u001b[0m\u001b[0m\n\u001b[0;32m----> 5\u001b[0;31m         \u001b[0mself\u001b[0m\u001b[0;34m.\u001b[0m\u001b[0mdtw\u001b[0m \u001b[0;34m=\u001b[0m \u001b[0mdtw\u001b[0m\u001b[0;34m(\u001b[0m\u001b[0mref_recording\u001b[0m\u001b[0;34m,\u001b[0m \u001b[0mparams\u001b[0m\u001b[0;34m,\u001b[0m \u001b[0mdebug_params\u001b[0m\u001b[0;34m)\u001b[0m  \u001b[0;31m# passed in 'dtw', which is some form of DTW_x...\u001b[0m\u001b[0;34m\u001b[0m\u001b[0m\n\u001b[0m\u001b[1;32m      6\u001b[0m \u001b[0;34m\u001b[0m\u001b[0m\n\u001b[1;32m      7\u001b[0m         \u001b[0mself\u001b[0m\u001b[0;34m.\u001b[0m\u001b[0mlive_recording\u001b[0m\u001b[0;34m,\u001b[0m \u001b[0mfs\u001b[0m \u001b[0;34m=\u001b[0m \u001b[0mlibrosa\u001b[0m\u001b[0;34m.\u001b[0m\u001b[0mload\u001b[0m\u001b[0;34m(\u001b[0m\u001b[0mlive_recording\u001b[0m\u001b[0;34m)\u001b[0m\u001b[0;34m\u001b[0m\u001b[0m\n",
      "\u001b[0;32m/Users/smriti/Desktop/MIT/SuperUROP/real-time-audio-sync/wtw.py\u001b[0m in \u001b[0;36m__init__\u001b[0;34m(self, ref_recording, params, debug_params)\u001b[0m\n\u001b[1;32m      3\u001b[0m     \u001b[0;32mdef\u001b[0m \u001b[0m__init__\u001b[0m\u001b[0;34m(\u001b[0m\u001b[0mself\u001b[0m\u001b[0;34m,\u001b[0m \u001b[0mref_recording\u001b[0m\u001b[0;34m,\u001b[0m \u001b[0mparams\u001b[0m\u001b[0;34m,\u001b[0m \u001b[0mdebug_params\u001b[0m\u001b[0;34m)\u001b[0m\u001b[0;34m:\u001b[0m\u001b[0;34m\u001b[0m\u001b[0m\n\u001b[1;32m      4\u001b[0m         \u001b[0;31m# reference audio, fs = 22050\u001b[0m\u001b[0;34m\u001b[0m\u001b[0;34m\u001b[0m\u001b[0m\n\u001b[0;32m----> 5\u001b[0;31m         \u001b[0mself\u001b[0m\u001b[0;34m.\u001b[0m\u001b[0mref\u001b[0m\u001b[0;34m,\u001b[0m \u001b[0mself\u001b[0m\u001b[0;34m.\u001b[0m\u001b[0mfs\u001b[0m \u001b[0;34m=\u001b[0m \u001b[0mlibrosa\u001b[0m\u001b[0;34m.\u001b[0m\u001b[0mload\u001b[0m\u001b[0;34m(\u001b[0m\u001b[0mref_recording\u001b[0m\u001b[0;34m)\u001b[0m\u001b[0;34m\u001b[0m\u001b[0m\n\u001b[0m\u001b[1;32m      6\u001b[0m         \u001b[0;32massert\u001b[0m\u001b[0;34m(\u001b[0m\u001b[0mself\u001b[0m\u001b[0;34m.\u001b[0m\u001b[0mfs\u001b[0m \u001b[0;34m==\u001b[0m \u001b[0;36m22050\u001b[0m\u001b[0;34m)\u001b[0m\u001b[0;34m\u001b[0m\u001b[0m\n\u001b[1;32m      7\u001b[0m \u001b[0;34m\u001b[0m\u001b[0m\n",
      "\u001b[0;31mNameError\u001b[0m: global name 'librosa' is not defined"
     ]
    }
   ],
   "source": [
    "params = {'fft_len': 4096, 'hop_size': 2048, 'dtw_win_size': 4096*10, 'dtw_hop_size': 2048*10}\n",
    "debug_params = {'chroma': False, 'song': True, 'error': True, 'error_detail': False, 'alg': True}\n",
    "ref ='Songs/ChopinNocturneOp9No2/ChopinNocturneOp9No2_ArthurRubinstein_20b.wav'\n",
    "live = 'Songs/ChopinNocturneOp9No2/ChopinNocturneOp9No2_Rachmaninoff_20b.wav'\n",
    "gt_ref = 'Songs/ChopinNocturneOp9No2/ChopinNocturneOp9No2_ArthurRubinstein_20b.csv'\n",
    "gt_live = 'Songs/ChopinNocturneOp9No2/ChopinNocturneOp9No2_Rachmaninoff_20b.csv'\n",
    "test = test_single_recording(WTW, ref, live, gt_ref, gt_live, params, debug_params)"
   ]
  },
  {
   "cell_type": "code",
   "execution_count": null,
   "metadata": {
    "collapsed": true
   },
   "outputs": [],
   "source": [
    "class test_DTW():  # multiple songs, 1 DTW_x algorithm\n",
    "    \n",
    "    def __init__(self, recordings_dir, params, debug_params, dtw):\n",
    "        self.recordings_dir = recordings_dir\n",
    "        self.params = params\n",
    "        self.debug_params = debug_params\n",
    "        self.dtw = dtw\n",
    "        \n",
    "    def evaluate(self, buf_size):\n",
    "        '''Evaluate a DTW variant (test with several pieces).'''\n",
    "        errors = []\n",
    "        # TODO: change following pseudocode to real code\n",
    "        # each folder has multiple recordings of one song\n",
    "        for folder in self.recordings_dir:\n",
    "            for ref in folder:\n",
    "                gt_ref = ref.csv\n",
    "                for live in folder:\n",
    "                    gt_live = live.csv\n",
    "                    test = test_single_recording(self.dtw, ref, live, gt_ref, gt_live, self.params, self.debug_params)\n",
    "                    error = test.evaluate(buf_size)\n",
    "                    errors.append(error)\n",
    "                \n",
    "        errors = np.array(errors)\n",
    "        \n",
    "        return np.mean(errors)"
   ]
  },
  {
   "cell_type": "code",
   "execution_count": null,
   "metadata": {
    "collapsed": true
   },
   "outputs": [],
   "source": [
    "class test_all():  # multiple songs, multiple DTWs (test each DTW with multiple recordings)\n",
    "    \n",
    "    def __init__(self, recordings_dir, params, debug_params, dtws):\n",
    "        self.recordings_dir = recordings_dir\n",
    "        self.params = params\n",
    "        self.debug_params = debug_params\n",
    "        self.dtw = dtws\n",
    "        \n",
    "    def evaluate(self):\n",
    "        '''Evaluate all DTW variants (with all pieces).'''\n",
    "        errors = []\n",
    "        for dtw in self.dtws:\n",
    "            test = test_DTW(self.recordings_dir, self.params, self.debug_params, dtw)\n",
    "            error = test.evaluate()\n",
    "            errors.append((dtw, score))\n",
    "            \n",
    "        return errors"
   ]
  }
 ],
 "metadata": {
  "kernelspec": {
   "display_name": "Python 2",
   "language": "python",
   "name": "python2"
  },
  "language_info": {
   "codemirror_mode": {
    "name": "ipython",
    "version": 2
   },
   "file_extension": ".py",
   "mimetype": "text/x-python",
   "name": "python",
   "nbconvert_exporter": "python",
   "pygments_lexer": "ipython2",
   "version": "2.7.13"
  }
 },
 "nbformat": 4,
 "nbformat_minor": 2
}
